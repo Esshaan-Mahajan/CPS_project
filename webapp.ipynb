{
 "cells": [
  {
   "cell_type": "code",
   "execution_count": null,
   "id": "8b4178b7-204c-4a7d-be53-6c41416988c4",
   "metadata": {},
   "outputs": [],
   "source": [
    "from flask import Flask, request, render_template\n",
    "import pandas as pd\n",
    "from autogluon.tabular import TabularPredictor\n",
    "\n",
    "app = Flask(__name__)\n",
    "\n",
    "# Load the pre-trained model\n",
    "predictor = TabularPredictor.load('AutogluonModels/ag-20240429_230251/models/LightGBMXT/model.pkl')\n",
    "\n",
    "@app.route('/')\n",
    "def home():\n",
    "    return render_template('index.html')\n",
    "\n",
    "@app.route('/predict', methods=['POST'])\n",
    "def predict():\n",
    "    # Retrieve input data from the form\n",
    "    input_data = {feature: request.form[feature] for feature in request.form}\n",
    "    input_df = pd.DataFrame([input_data])\n",
    "\n",
    "    # Make prediction\n",
    "    prediction = predictor.predict(input_df)\n",
    "    probability = predictor.predict_proba(input_df)\n",
    "\n",
    "    # Generate an alert based on the prediction\n",
    "    if prediction.iloc[0] == 1:\n",
    "        message = f'Flood Alert! Probability: {probability.iloc[0,1]:.2f}'\n",
    "    else:\n",
    "        message = f'No Flood. Probability: {probability.iloc[0,0]:.2f}'\n",
    "\n",
    "    return render_template('index.html', prediction_text=message)\n",
    "\n",
    "if __name__ == '__main__':\n",
    "    app.run(debug=True)\n"
   ]
  }
 ],
 "metadata": {
  "kernelspec": {
   "display_name": "Python 3 (ipykernel)",
   "language": "python",
   "name": "python3"
  },
  "language_info": {
   "codemirror_mode": {
    "name": "ipython",
    "version": 3
   },
   "file_extension": ".py",
   "mimetype": "text/x-python",
   "name": "python",
   "nbconvert_exporter": "python",
   "pygments_lexer": "ipython3",
   "version": "3.9.19"
  }
 },
 "nbformat": 4,
 "nbformat_minor": 5
}
